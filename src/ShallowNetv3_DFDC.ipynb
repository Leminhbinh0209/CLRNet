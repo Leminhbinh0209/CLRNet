{
 "cells": [
  {
   "cell_type": "code",
   "execution_count": 1,
   "metadata": {
    "collapsed": true,
    "pycharm": {
     "is_executing": false
    }
   },
   "outputs": [],
   "source": [
    "from sklearn.metrics import classification_report\n",
    "from tensorflow.python.keras import regularizers, Model, Input, optimizers\n",
    "from tensorflow.python.keras.callbacks import ModelCheckpoint, CSVLogger\n",
    "from tensorflow.python.keras.layers import Conv2D, Dropout, MaxPooling2D, Flatten, Dense, BatchNormalization\n",
    "from tensorflow.python.keras.preprocessing.image import ImageDataGenerator\n",
    "from tensorflow.python.keras.utils.layer_utils import print_summary\n",
    "import tensorflow as tf\n",
    "from tensorflow.keras import backend as K\n",
    "import matplotlib.pyplot as plt\n",
    "import numpy as np\n",
    "import random\n",
    "random.seed(32)\n",
    "config = tf.ConfigProto()\n",
    "config.gpu_options.allow_growth = True\n",
    "sess = tf.Session(config=config)\n",
    "K.set_session(sess)\n",
    "sess.run(tf.global_variables_initializer())"
   ]
  },
  {
   "cell_type": "code",
   "execution_count": 2,
   "outputs": [],
   "source": [
    "train_datagen = ImageDataGenerator(\n",
    "        rescale=1./255,\n",
    "        # shear_range=0.2,\n",
    "        # zoom_range=0.2,\n",
    "        # horizontal_flip=True\n",
    ")\n",
    "\n",
    "validation_datagen = ImageDataGenerator(\n",
    "        rescale=1./255,\n",
    ")\n",
    "train_generator = train_datagen.flow_from_directory(\n",
    "        'datasets/DFDC/train',# this is the target directory\n",
    "        target_size=(128, 128),  # all images will be resized to 150x150\n",
    "        class_mode='categorical',\n",
    "        shuffle=True,\n",
    "        seed=32) \n",
    "validation_generator = validation_datagen.flow_from_directory(\n",
    "        'datasets/DFDC/val',# this is the target directory\n",
    "        target_size=(128, 128),  # all images will be resized to 150x150\n",
    "        class_mode='categorical',\n",
    "        shuffle=True,\n",
    "        seed=32) "
   ],
   "metadata": {
    "collapsed": false,
    "pycharm": {
     "name": "#%%\n",
     "is_executing": false
    }
   }
  },
  {
   "cell_type": "code",
   "execution_count": 3,
   "outputs": [],
   "source": [
    "x=train_generator.__getitem__(0)\n",
    "print(len(train_generator.labels),train_generator.labels)\n",
    "print(x[1].shape)\n",
    "print(x[1])\n",
    "plt.imshow(x[0][7])\n",
    "plt.title(x[1][7])\n"
   ],
   "metadata": {
    "collapsed": false,
    "pycharm": {
     "name": "#%%\n",
     "is_executing": false
    }
   }
  },
  {
   "cell_type": "code",
   "execution_count": 4,
   "outputs": [],
   "source": [
    "def load_ShallowNetV3(weights, name, model_input):\n",
    "    model = ShallowNetV3(model_input)\n",
    "    model.load_weights(weights)\n",
    "    # model.name = name\n",
    "    return model\n",
    "\n",
    "#ShallowNet V3\n",
    "def ShallowNetV3(model_input):\n",
    "    # block 1\n",
    "    x = Conv2D(32, (5, 5), activation='relu', padding='valid', kernel_regularizer=regularizers.l2(0.0001))(model_input)\n",
    "    x = Dropout(0.25)(x)\n",
    "    x = Conv2D(32, (1, 1), activation='relu', kernel_regularizer=regularizers.l2(0.0001))(x)\n",
    "    x = Dropout(0.25)(x)\n",
    "    x = Conv2D(32, (1, 1), activation='relu', kernel_regularizer=regularizers.l2(0.0001))(x)\n",
    "    x = MaxPooling2D((2, 2))(x)\n",
    "    x = Dropout(0.25)(x)\n",
    "    # block 2\n",
    "    x = Conv2D(64, (3, 3), activation='relu', padding='valid', kernel_regularizer=regularizers.l2(0.0001))(x)\n",
    "    x = Dropout(0.25)(x)\n",
    "    x = Conv2D(64, (1, 1), activation='relu', kernel_regularizer=regularizers.l2(0.0001))(x)\n",
    "    x = Dropout(0.25)(x)\n",
    "    x = Conv2D(64, (1, 1), activation='relu', kernel_regularizer=regularizers.l2(0.0001))(x)\n",
    "    x = MaxPooling2D((2, 2))(x)\n",
    "    x = Dropout(0.25)(x)\n",
    "    # block 3\n",
    "    x = Conv2D(128, (3, 3), activation='relu', padding='valid', kernel_regularizer=regularizers.l2(0.0001))(x)\n",
    "    x = Dropout(0.25)(x)\n",
    "    x = Conv2D(32, (1, 1), activation='relu', kernel_regularizer=regularizers.l2(0.0001))(x)\n",
    "    x = Dropout(0.25)(x)\n",
    "    # block 4\n",
    "    x = Flatten()(x)\n",
    "    x = Dense(1024, activation='relu', kernel_regularizer=regularizers.l2(0.0001))(x)\n",
    "    x = BatchNormalization()(x)\n",
    "    x = Dropout(0.25)(x)\n",
    "    x = Dense(2, activation='sigmoid')(x)\n",
    "    model = Model(model_input, x, name='ShallowNetV3')\n",
    "    return model"
   ],
   "metadata": {
    "collapsed": false,
    "pycharm": {
     "name": "#%%\n",
     "is_executing": false
    }
   }
  },
  {
   "cell_type": "code",
   "execution_count": 5,
   "outputs": [],
   "source": [
    "inputs = Input(shape=(128, 128, 3), name='image_input')\n",
    "model= ShallowNetV3(inputs)\n",
    "\n",
    "model_checkpoint_callback = ModelCheckpoint(\n",
    "    filepath=\"SNV3_DFDC_Ebest.h5\",\n",
    "    save_weights_only=True,\n",
    "    monitor='val_acc',\n",
    "    mode='max',\n",
    "    save_best_only=True)\n",
    "csv_logger = CSVLogger(\"SNV3_DFDC_train.csv\", append=True, separator=',')\n",
    "model.compile(loss='binary_crossentropy',\n",
    "              optimizer=optimizers.Adam(lr=0.00005, beta_1=0.9, beta_2=0.999, epsilon=None, decay=0.0, amsgrad=False),\n",
    "              metrics=['accuracy'])\n",
    "print_summary(model, line_length=115, positions=None, print_fn=None)"
   ],
   "metadata": {
    "collapsed": false,
    "pycharm": {
     "name": "#%%\n",
     "is_executing": false
    }
   }
  },
  {
   "cell_type": "code",
   "execution_count": 6,
   "outputs": [],
   "source": [
    "model.fit_generator(train_generator,\n",
    "                    verbose=2,\n",
    "                    epochs=50,\n",
    "                    validation_data=validation_generator,\n",
    "                    callbacks=[model_checkpoint_callback,csv_logger])\n",
    "model.save_weights(\"SNV3_DFDC_E50.h5\")"
   ],
   "metadata": {
    "collapsed": false,
    "pycharm": {
     "name": "#%%\n",
     "is_executing": false
    }
   }
  },
  {
   "cell_type": "markdown",
   "source": [
    "# DeepFakeDetection Test "
   ],
   "metadata": {
    "collapsed": false
   }
  },
  {
   "cell_type": "code",
   "execution_count": 7,
   "outputs": [],
   "source": [
    "test_datagen = ImageDataGenerator(rescale=1./255)\n",
    "inputs = Input(shape=(128, 128, 3), name='image_input')\n",
    "model=load_ShallowNetV3(\"SNV3_DFDC_Ebest.h5\",\"ShallowNetV3\",inputs)\n",
    "model.compile(loss='binary_crossentropy',\n",
    "              optimizer=optimizers.Adam(lr=0.00005, beta_1=0.9, beta_2=0.999, epsilon=None, decay=0.0, amsgrad=False),\n",
    "              metrics=['accuracy'])\n",
    "print_summary(model, line_length=115, positions=None, print_fn=None)\n",
    "test_generator = test_datagen.flow_from_directory(\n",
    "        'datasets/DeepFakeDetection/test',# this is the target directory\n",
    "        target_size=(128, 128),  # all images will be resized to 150x150\n",
    "        class_mode='categorical',\n",
    "        shuffle=False,\n",
    "        seed=32) \n",
    "# model.load_weights(\"SNV3_DFDC_Ebest.h5\")\n",
    "predictions=model.evaluate_generator(test_generator,verbose=2)\n",
    "print(predictions)\n",
    "predictions=model.predict_generator(test_generator,verbose=2)\n",
    "predicted_classes = np.argmax(predictions, axis=1)\n",
    "true_classes = test_generator.classes\n",
    "report = classification_report(true_classes, predicted_classes, digits=4)\n",
    "print(report)"
   ],
   "metadata": {
    "collapsed": false,
    "pycharm": {
     "name": "#%%\n",
     "is_executing": false
    }
   }
  },
  {
   "cell_type": "markdown",
   "source": [
    "# DeepFake Test "
   ],
   "metadata": {
    "collapsed": false
   }
  },
  {
   "cell_type": "code",
   "execution_count": 8,
   "outputs": [],
   "source": [
    "test_datagen = ImageDataGenerator(rescale=1./255)\n",
    "inputs = Input(shape=(128, 128, 3), name='image_input')\n",
    "model=load_ShallowNetV3(\"SNV3_DFDC_Ebest.h5\",\"ShallowNetV3\",inputs)\n",
    "model.compile(loss='binary_crossentropy',\n",
    "              optimizer=optimizers.Adam(lr=0.00005, beta_1=0.9, beta_2=0.999, epsilon=None, decay=0.0, amsgrad=False),\n",
    "              metrics=['accuracy'])\n",
    "print_summary(model, line_length=115, positions=None, print_fn=None)\n",
    "test_generator = test_datagen.flow_from_directory(\n",
    "        'datasets/DeepFake/test',# this is the target directory\n",
    "        target_size=(128, 128),  # all images will be resized to 150x150\n",
    "        class_mode='categorical',\n",
    "        shuffle=False,\n",
    "        seed=32) \n",
    "# model.load_weights(\"SNV3_DFDC_Ebest.h5\")\n",
    "predictions=model.evaluate_generator(test_generator,verbose=2)\n",
    "print(predictions)\n",
    "predictions=model.predict_generator(test_generator,verbose=2)\n",
    "predicted_classes = np.argmax(predictions, axis=1)\n",
    "true_classes = test_generator.classes\n",
    "report = classification_report(true_classes, predicted_classes, digits=4)\n",
    "print(report)"
   ],
   "metadata": {
    "collapsed": false,
    "pycharm": {
     "name": "#%%\n",
     "is_executing": false
    }
   }
  },
  {
   "cell_type": "markdown",
   "source": [
    "# FaceSwap Test "
   ],
   "metadata": {
    "collapsed": false
   }
  },
  {
   "cell_type": "code",
   "source": [
    "test_datagen = ImageDataGenerator(rescale=1./255)\n",
    "inputs = Input(shape=(128, 128, 3), name='image_input')\n",
    "model=load_ShallowNetV3(\"SNV3_DFDC_Ebest.h5\",\"ShallowNetV3\",inputs)\n",
    "model.compile(loss='binary_crossentropy',\n",
    "              optimizer=optimizers.Adam(lr=0.00005, beta_1=0.9, beta_2=0.999, epsilon=None, decay=0.0, amsgrad=False),\n",
    "              metrics=['accuracy'])\n",
    "print_summary(model, line_length=115, positions=None, print_fn=None)\n",
    "test_generator = test_datagen.flow_from_directory(\n",
    "        'datasets/FaceSwap/test',# this is the target directory\n",
    "        target_size=(128, 128),  # all images will be resized to 150x150\n",
    "        class_mode='categorical',\n",
    "        shuffle=False,\n",
    "        seed=32) \n",
    "# model.load_weights(\"SNV3_DFDC_Ebest.h5\")\n",
    "predictions=model.evaluate_generator(test_generator,verbose=2)\n",
    "print(predictions)\n",
    "predictions=model.predict_generator(test_generator,verbose=2)\n",
    "predicted_classes = np.argmax(predictions, axis=1)\n",
    "true_classes = test_generator.classes\n",
    "report = classification_report(true_classes, predicted_classes, digits=4)\n",
    "print(report)"
   ],
   "metadata": {
    "collapsed": false,
    "pycharm": {
     "name": "#%%\n",
     "is_executing": false
    }
   },
   "execution_count": 9,
   "outputs": []
  },
  {
   "cell_type": "markdown",
   "source": [
    "# Face2Face Test "
   ],
   "metadata": {
    "collapsed": false
   }
  },
  {
   "cell_type": "code",
   "execution_count": 10,
   "outputs": [],
   "source": [
    "test_datagen = ImageDataGenerator(rescale=1./255)\n",
    "inputs = Input(shape=(128, 128, 3), name='image_input')\n",
    "model=load_ShallowNetV3(\"SNV3_DFDC_Ebest.h5\",\"ShallowNetV3\",inputs)\n",
    "model.compile(loss='binary_crossentropy',\n",
    "              optimizer=optimizers.Adam(lr=0.00005, beta_1=0.9, beta_2=0.999, epsilon=None, decay=0.0, amsgrad=False),\n",
    "              metrics=['accuracy'])\n",
    "print_summary(model, line_length=115, positions=None, print_fn=None)\n",
    "test_generator = test_datagen.flow_from_directory(\n",
    "        'datasets/Face2Face/test',# this is the target directory\n",
    "        target_size=(128, 128),  # all images will be resized to 150x150\n",
    "        class_mode='categorical',\n",
    "        shuffle=False,\n",
    "        seed=32) \n",
    "# model.load_weights(\"SNV3_DFDC_Ebest.h5\")\n",
    "predictions=model.evaluate_generator(test_generator,verbose=2)\n",
    "print(predictions)\n",
    "predictions=model.predict_generator(test_generator,verbose=2)\n",
    "predicted_classes = np.argmax(predictions, axis=1)\n",
    "true_classes = test_generator.classes\n",
    "report = classification_report(true_classes, predicted_classes, digits=4)\n",
    "print(report)"
   ],
   "metadata": {
    "collapsed": false,
    "pycharm": {
     "name": "#%%\n",
     "is_executing": false
    }
   }
  },
  {
   "cell_type": "markdown",
   "source": [
    "# NeuralTextures Test "
   ],
   "metadata": {
    "collapsed": false
   }
  },
  {
   "cell_type": "code",
   "execution_count": 11,
   "outputs": [],
   "source": [
    "test_datagen = ImageDataGenerator(rescale=1./255)\n",
    "inputs = Input(shape=(128, 128, 3), name='image_input')\n",
    "model=load_ShallowNetV3(\"SNV3_DFDC_Ebest.h5\",\"ShallowNetV3\",inputs)\n",
    "model.compile(loss='binary_crossentropy',\n",
    "              optimizer=optimizers.Adam(lr=0.00005, beta_1=0.9, beta_2=0.999, epsilon=None, decay=0.0, amsgrad=False),\n",
    "              metrics=['accuracy'])\n",
    "print_summary(model, line_length=115, positions=None, print_fn=None)\n",
    "test_generator = test_datagen.flow_from_directory(\n",
    "        'datasets/NeuralTextures/test',# this is the target directory\n",
    "        target_size=(128, 128),  # all images will be resized to 150x150\n",
    "        class_mode='categorical',\n",
    "        shuffle=False,\n",
    "        seed=32) \n",
    "# model.load_weights(\"SNV3_DFDC_Ebest.h5\")\n",
    "predictions=model.evaluate_generator(test_generator,verbose=2)\n",
    "print(predictions)\n",
    "predictions=model.predict_generator(test_generator,verbose=2)\n",
    "predicted_classes = np.argmax(predictions, axis=1)\n",
    "true_classes = test_generator.classes\n",
    "report = classification_report(true_classes, predicted_classes, digits=4)\n",
    "print(report)"
   ],
   "metadata": {
    "collapsed": false,
    "pycharm": {
     "name": "#%%\n",
     "is_executing": false
    }
   }
  },
  {
   "cell_type": "markdown",
   "source": [
    "# DeepFakewild Test "
   ],
   "metadata": {
    "collapsed": false
   }
  },
  {
   "cell_type": "code",
   "execution_count": 12,
   "outputs": [],
   "source": [
    "test_datagen = ImageDataGenerator(rescale=1./255)\n",
    "inputs = Input(shape=(128, 128, 3), name='image_input')\n",
    "model=load_ShallowNetV3(\"SNV3_DFDC_Ebest.h5\",\"ShallowNetV3\",inputs)\n",
    "model.compile(loss='binary_crossentropy',\n",
    "              optimizer=optimizers.Adam(lr=0.00005, beta_1=0.9, beta_2=0.999, epsilon=None, decay=0.0, amsgrad=False),\n",
    "              metrics=['accuracy'])\n",
    "print_summary(model, line_length=115, positions=None, print_fn=None)\n",
    "test_generator = test_datagen.flow_from_directory(\n",
    "        'datasets/DeepFakewild/test',# this is the target directory\n",
    "        target_size=(128, 128),  # all images will be resized to 150x150\n",
    "        class_mode='categorical',\n",
    "        shuffle=False,\n",
    "        seed=32) \n",
    "# model.load_weights(\"SNV3_DFDC_Ebest.h5\")\n",
    "predictions=model.evaluate_generator(test_generator,verbose=2)\n",
    "print(predictions)\n",
    "predictions=model.predict_generator(test_generator,verbose=2)\n",
    "predicted_classes = np.argmax(predictions, axis=1)\n",
    "true_classes = test_generator.classes\n",
    "report = classification_report(true_classes, predicted_classes, digits=4)\n",
    "print(report)"
   ],
   "metadata": {
    "collapsed": false,
    "pycharm": {
     "name": "#%%\n",
     "is_executing": false
    }
   }
  },
  {
   "cell_type": "markdown",
   "source": [
    "# DFDC Test "
   ],
   "metadata": {
    "collapsed": false
   }
  },
  {
   "cell_type": "code",
   "execution_count": 13,
   "outputs": [],
   "source": [
    "test_datagen = ImageDataGenerator(rescale=1./255)\n",
    "inputs = Input(shape=(128, 128, 3), name='image_input')\n",
    "model=load_ShallowNetV3(\"SNV3_DFDC_Ebest.h5\",\"ShallowNetV3\",inputs)\n",
    "model.compile(loss='binary_crossentropy',\n",
    "              optimizer=optimizers.Adam(lr=0.00005, beta_1=0.9, beta_2=0.999, epsilon=None, decay=0.0, amsgrad=False),\n",
    "              metrics=['accuracy'])\n",
    "print_summary(model, line_length=115, positions=None, print_fn=None)\n",
    "test_generator = test_datagen.flow_from_directory(\n",
    "        'datasets/DFDC/test',# this is the target directory\n",
    "        target_size=(128, 128),  # all images will be resized to 150x150\n",
    "        class_mode='categorical',\n",
    "        shuffle=False,\n",
    "        seed=32) \n",
    "# model.load_weights(\"SNV3_DFDC_Ebest.h5\")\n",
    "predictions=model.evaluate_generator(test_generator,verbose=2)\n",
    "print(predictions)\n",
    "predictions=model.predict_generator(test_generator,verbose=2)\n",
    "predicted_classes = np.argmax(predictions, axis=1)\n",
    "true_classes = test_generator.classes\n",
    "report = classification_report(true_classes, predicted_classes, digits=4)\n",
    "print(report)"
   ],
   "metadata": {
    "collapsed": false,
    "pycharm": {
     "name": "#%%\n",
     "is_executing": false
    }
   }
  }
 ],
 "metadata": {
  "kernelspec": {
   "display_name": "Python 3",
   "language": "python",
   "name": "python3"
  },
  "language_info": {
   "codemirror_mode": {
    "name": "ipython",
    "version": 2
   },
   "file_extension": ".py",
   "mimetype": "text/x-python",
   "name": "python",
   "nbconvert_exporter": "python",
   "pygments_lexer": "ipython2",
   "version": "2.7.6"
  },
  "pycharm": {
   "stem_cell": {
    "cell_type": "raw",
    "source": [],
    "metadata": {
     "collapsed": false
    }
   }
  }
 },
 "nbformat": 4,
 "nbformat_minor": 0
}